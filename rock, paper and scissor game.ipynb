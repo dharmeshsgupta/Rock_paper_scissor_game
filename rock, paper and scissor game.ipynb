{
 "cells": [
  {
   "cell_type": "code",
   "execution_count": 7,
   "id": "f14f9b30-262a-43c5-9fd1-c678a04cbb2e",
   "metadata": {},
   "outputs": [
    {
     "name": "stdin",
     "output_type": "stream",
     "text": [
      "Rock, paper, or scissor ? (r/p/s):  s\n"
     ]
    },
    {
     "name": "stdout",
     "output_type": "stream",
     "text": [
      "You chose: s\n",
      "Computer chose: s\n",
      "Tie!\n"
     ]
    },
    {
     "name": "stdin",
     "output_type": "stream",
     "text": [
      "Continue ? (y/n) y\n",
      "Rock, paper, or scissor ? (r/p/s):  p\n"
     ]
    },
    {
     "name": "stdout",
     "output_type": "stream",
     "text": [
      "You chose: p\n",
      "Computer chose: s\n",
      "You Lose\n"
     ]
    },
    {
     "name": "stdin",
     "output_type": "stream",
     "text": [
      "Continue ? (y/n) y\n",
      "Rock, paper, or scissor ? (r/p/s):  p\n"
     ]
    },
    {
     "name": "stdout",
     "output_type": "stream",
     "text": [
      "You chose: p\n",
      "Computer chose: p\n",
      "Tie!\n"
     ]
    },
    {
     "name": "stdin",
     "output_type": "stream",
     "text": [
      "Continue ? (y/n) y\n",
      "Rock, paper, or scissor ? (r/p/s):  p\n"
     ]
    },
    {
     "name": "stdout",
     "output_type": "stream",
     "text": [
      "You chose: p\n",
      "Computer chose: p\n",
      "Tie!\n"
     ]
    },
    {
     "name": "stdin",
     "output_type": "stream",
     "text": [
      "Continue ? (y/n) y\n",
      "Rock, paper, or scissor ? (r/p/s):  p\n"
     ]
    },
    {
     "name": "stdout",
     "output_type": "stream",
     "text": [
      "You chose: p\n",
      "Computer chose: r\n",
      "You Win\n"
     ]
    },
    {
     "name": "stdin",
     "output_type": "stream",
     "text": [
      "Continue ? (y/n) n\n"
     ]
    }
   ],
   "source": [
    "import random\n",
    "choices = ('r','p','s')\n",
    "\n",
    "while True:\n",
    "    user_choice = input('Rock, paper, or scissor ? (r/p/s): ').lower()\n",
    "    if user_choice not in choices:\n",
    "        print('Invalid choice!')\n",
    "        continue\n",
    "\n",
    "    computer_choice = random.choice(choices)\n",
    "\n",
    "    print(f'You chose: {user_choice}')\n",
    "    print(f'Computer chose: {computer_choice}')\n",
    "\n",
    "    if user_choice == computer_choice:\n",
    "        print('Tie!')\n",
    "    elif (\n",
    "        (user_choice == 'r' and computer_choice =='s') or\n",
    "        (user_choice == 's' and computer_choice =='p') or\n",
    "        (user_choice == 'p' and computer_choice =='r')\n",
    "    ):\n",
    "        print('You Win')\n",
    "    else:\n",
    "        print('You Lose')\n",
    "\n",
    "    should_continue = input('Continue ? (y/n)').lower()\n",
    "    if should_continue == 'n':\n",
    "        break"
   ]
  },
  {
   "cell_type": "code",
   "execution_count": 11,
   "id": "1f59886c-5406-4531-9c14-bf7bd8cd69b9",
   "metadata": {},
   "outputs": [
    {
     "name": "stdin",
     "output_type": "stream",
     "text": [
      "Rock, paper, or scissor ? (r/p/s):  r\n"
     ]
    },
    {
     "name": "stdout",
     "output_type": "stream",
     "text": [
      "You chose: r\n",
      "Computer chose: r\n",
      "Tie!\n"
     ]
    },
    {
     "name": "stdin",
     "output_type": "stream",
     "text": [
      "Continue ? (y/n) y\n",
      "Rock, paper, or scissor ? (r/p/s):  p\n"
     ]
    },
    {
     "name": "stdout",
     "output_type": "stream",
     "text": [
      "You chose: p\n",
      "Computer chose: s\n",
      "You Lose\n"
     ]
    },
    {
     "name": "stdin",
     "output_type": "stream",
     "text": [
      "Continue ? (y/n) y\n",
      "Rock, paper, or scissor ? (r/p/s):  p\n"
     ]
    },
    {
     "name": "stdout",
     "output_type": "stream",
     "text": [
      "You chose: p\n",
      "Computer chose: r\n",
      "You Win\n"
     ]
    },
    {
     "name": "stdin",
     "output_type": "stream",
     "text": [
      "Continue ? (y/n) n\n"
     ]
    }
   ],
   "source": [
    "import random\n",
    "\n",
    "Rock = 'r'\n",
    "Scissors = 's'\n",
    "Paper = 'p'\n",
    "choices = ('r','p','s')\n",
    "#choices = tuple(choices_.keys())\n",
    "\n",
    "def get_user_choice():\n",
    "    while True:\n",
    "        user_choice = input('Rock, paper, or scissor ? (r/p/s): ').lower()\n",
    "        if user_choice in choices:\n",
    "            return user_choice\n",
    "        else:\n",
    "            print('Invalid choice!')\n",
    "\n",
    "def display_choices(user_choice, computer_choice):\n",
    "    print(f'You chose: {user_choice}')\n",
    "    print(f'Computer chose: {computer_choice}')\n",
    "\n",
    "def determine_winner(user_choice, computer_choice):\n",
    "    if user_choice == computer_choice:\n",
    "        print('Tie!')\n",
    "    elif (\n",
    "        (user_choice == 'r' and computer_choice =='s') or\n",
    "        (user_choice == 's' and computer_choice =='p') or\n",
    "        (user_choice == 'p' and computer_choice =='r')\n",
    "    ):\n",
    "        print('You Win')\n",
    "    else:\n",
    "        print('You Lose')\n",
    "\n",
    "def play_game():\n",
    "    while True:\n",
    "        user_choice = get_user_choice()\n",
    "    \n",
    "        computer_choice = random.choice(choices)\n",
    "\n",
    "        display_choices(user_choice, computer_choice)\n",
    "\n",
    "        determine_winner(user_choice, computer_choice)\n",
    "\n",
    "        should_continue = input('Continue ? (y/n)').lower()\n",
    "        if should_continue == 'n':\n",
    "            break\n",
    "\n",
    "play_game()"
   ]
  },
  {
   "cell_type": "code",
   "execution_count": null,
   "id": "faf96851-2466-4332-bb20-3b790990cccb",
   "metadata": {},
   "outputs": [],
   "source": []
  }
 ],
 "metadata": {
  "kernelspec": {
   "display_name": "Python 3 (ipykernel)",
   "language": "python",
   "name": "python3"
  },
  "language_info": {
   "codemirror_mode": {
    "name": "ipython",
    "version": 3
   },
   "file_extension": ".py",
   "mimetype": "text/x-python",
   "name": "python",
   "nbconvert_exporter": "python",
   "pygments_lexer": "ipython3",
   "version": "3.12.4"
  }
 },
 "nbformat": 4,
 "nbformat_minor": 5
}
